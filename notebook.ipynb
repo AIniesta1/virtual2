{
 "cells": [
  {
   "cell_type": "code",
   "execution_count": 2,
   "metadata": {},
   "outputs": [
    {
     "name": "stdout",
     "output_type": "stream",
     "text": [
      "[1 2 3 4 5]\n",
      "[[1 2 3]\n",
      " [4 5 6]]\n",
      "[[[ 1  2  3]\n",
      "  [ 4  5  6]]\n",
      "\n",
      " [[ 7  8  9]\n",
      "  [10 11 12]]]\n",
      "[[0. 0. 0. 0. 0. 0.]\n",
      " [0. 0. 0. 0. 0. 0.]\n",
      " [0. 0. 0. 0. 0. 0.]\n",
      " [0. 0. 0. 0. 0. 0.]]\n",
      "[0 4 8]\n"
     ]
    }
   ],
   "source": [
    "import numpy as np\n",
    "array1 = np.array([1, 2, 3, 4, 5])\n",
    "array2d = np.array([[1, 2, 3], [4, 5, 6]])\n",
    "array3d = np.array([[[1, 2, 3], [4, 5, 6]], [[7, 8, 9], [10, 11, 12]]])\n",
    "print(array1)\n",
    "print(array2d)\n",
    "print(array3d)\n",
    "\n",
    "zeros = np.zeros((4, 6))\n",
    "print(zeros)\n",
    "\n",
    "range_array = np.arange(0, 10, 4)\n",
    "print(range_array)\n"
   ]
  },
  {
   "cell_type": "code",
   "execution_count": 2,
   "metadata": {},
   "outputs": [
    {
     "name": "stdout",
     "output_type": "stream",
     "text": [
      "[[0.02865613 0.4421303 ]\n",
      " [0.75396568 0.29836888]]\n",
      "[[3 7]\n",
      " [2 0]]\n",
      "[   0. 1000.]\n"
     ]
    }
   ],
   "source": [
    "random1 = np.random.random((2,2))\n",
    "print(random1)\n",
    "\n",
    "random2 = np.random.randint(0,10,(2,2))\n",
    "print(random2)\n",
    "\n",
    "espacio = np.linspace(0,1000,2)\n",
    "print(espacio)"
   ]
  },
  {
   "cell_type": "code",
   "execution_count": 3,
   "metadata": {},
   "outputs": [
    {
     "name": "stdout",
     "output_type": "stream",
     "text": [
      "[10  9  8  7  6  5  4  3  2  1]\n",
      "[6 4 2]\n",
      "[9 6 3]\n",
      "[8 6 4 2]\n",
      "[ 5 10]\n",
      "[2 3 4 5]\n"
     ]
    }
   ],
   "source": [
    "reverse = np.arange(10,0,-1)\n",
    "print(reverse)\n",
    "print(reverse[4:9:2])\n",
    "print(reverse[1:10:3])\n",
    "print(reverse[2:9:2])\n",
    "print(reverse[0:-1:5][::-1]) \n",
    "print(reverse[5:9:1][::-1])"
   ]
  },
  {
   "cell_type": "code",
   "execution_count": 4,
   "metadata": {},
   "outputs": [
    {
     "name": "stdout",
     "output_type": "stream",
     "text": [
      "[[5 6]\n",
      " [8 9]]\n",
      "[16 17 18]\n",
      "23\n",
      "[ 4 13 22]\n"
     ]
    }
   ],
   "source": [
    "array_2d = np.array([[1, 2, 3], [4, 5, 6], [7, 8, 9]])\n",
    "print(array_2d[1:,1:])\n",
    "\n",
    "array_3d = np.array([\n",
    "    [[1, 2, 3], [4, 5, 6], [7, 8, 9]], \n",
    "    [[10, 11, 12], [13, 14, 15], [16, 17, 18]],  \n",
    "    [[19, 20, 21], [22, 23, 24], [25, 26, 27]]  \n",
    "])\n",
    "\n",
    "print(array_3d[1,2])\n",
    "print(array_3d[2,1,1])\n",
    "print(array_3d[:,1,0])"
   ]
  },
  {
   "cell_type": "markdown",
   "metadata": {},
   "source": [
    "1. **Crear un array unidimensional con el nombre de los productos:** Tienes una lista de 5 productos: `\"Smartphone\"`, `\"Tablet\"`, `\"Laptop\"`, `\"Auriculares\"`, `\"Teclado\"`. Imprímelo.\n",
    "2. **Crear un array bidimensional con la cantidad en stock de cada producto:** La tienda tiene el siguiente stock de productos:\n",
    "    \n",
    "    ```bash\n",
    "    Smartphone - 50\n",
    "    Tablet - 30\n",
    "    Laptop - 15\n",
    "    Auriculares - 40\n",
    "    Teclado - 60\n",
    "    ```\n",
    "    \n",
    "    Crea un array bidimensional donde cada fila represente un producto y las columnas representen el stock disponible en diferentes almacenes. Imprime el array.\n",
    "    \n",
    "3. **Crear un array tridimensional para registrar las ventas de cada producto durante una semana:** Imagina que tienes un registro de ventas para cada uno de los 5 productos durante 3 días de la semana. Cada capa del array representará un día de ventas y las columnas serán las cantidades vendidas para cada producto:\n",
    "    \n",
    "    ```bash\n",
    "    Día 1: [5, 3, 2, 6, 4]\n",
    "    Día 2: [7, 4, 1, 8, 5]\n",
    "    Día 3: [6, 2, 3, 5, 4]\n",
    "    ```\n",
    "    \n",
    "    Crea un array tridimensional que almacene esta información. Imprímelo.\n",
    "    \n",
    "4. **Crear un array de ceros para los productos no vendidos hoy:** Los productos que no se han vendido hoy deben estar en cero. Crea un array de ceros para representar la cantidad de productos no vendidos de la tienda hoy. Imprime el array.\n",
    "5. **Crear un array de unos para los productos que están en promoción:** Los productos en promoción tienen un valor de `1`, mientras que los que no están en promoción tienen `0`. Crea un array de unos y ceros, donde los productos en promoción tienen el valor `1`. Los productos en promoción son el `\"Smartphone\"` y el `\"Teclado\"`. Imprímelo.\n",
    "6. **Crear un array con un rango de precios de productos:** La tienda tiene productos cuyo precio varía entre 50 y 1000 unidades monetarias. Crea un array con los precios de los productos, usando la función `np.arange`, y un paso de 50 unidades. Imprímelo.\n",
    "7. **Crear un array de precios aleatorios:** Crea un array con precios aleatorios para los productos entre 100 y 500 unidades monetarias, de tamaño 5. Imprímelo.\n",
    "8. **Generar un array de números enteros aleatorios para la cantidad vendida:** Utiliza `np.random.randint` para crear un array de 5 elementos, con valores aleatorios entre 1 y 10, que representen las unidades vendidas de cada producto hoy. Imprímelo.\n",
    "9. **Crear un array vacío para almacenar los valores de descuento:** Crea un array vacío de tamaño 5x1 para almacenar los descuentos que se aplicarán a cada producto. Imprímelo.\n",
    "10. **Generar un array con valores espaciados para analizar el cambio en las ventas:** Imagina que deseas analizar cómo cambian las ventas en diferentes intervalos de tiempo (por ejemplo, cada 2 horas). Utiliza `np.linspace`para generar un array con 5 puntos de venta, distribuidos entre 0 y 1000 unidades, representando las ventas totales del día. Imprímelo."
   ]
  },
  {
   "cell_type": "code",
   "execution_count": 27,
   "metadata": {},
   "outputs": [
    {
     "name": "stdout",
     "output_type": "stream",
     "text": [
      "['Smartphone' 'Tablet' 'Laptop' 'Auriculares' 'Teclado']\n",
      "[['Smartphone' 'Tablet' 'Laptop' 'Auriculares' 'Teclado']\n",
      " ['50' '30' '15' '40' '60']]\n",
      "[[['Smartphone' 'Tablet' 'Laptop' 'Auriculares' 'Teclado']\n",
      "  ['5' '3' '2' '6' '2']]\n",
      "\n",
      " [['Smartphone' 'Tablet' 'Laptop' 'Auriculares' 'Teclado']\n",
      "  ['7' '4' '1' '8' '5']]\n",
      "\n",
      " [['Smartphone' 'Tablet' 'Laptop' 'Auriculares' 'Teclado']\n",
      "  ['6' '2' '3' '5' '4']]]\n",
      "[0. 0. 0. 0. 0.]\n",
      "[1. 1. 1. 1. 1.]\n",
      "[ 50 100 150 200 250 300 350 400 450 500 550 600 650 700 750 800 850 900\n",
      " 950]\n",
      "[429 105 460 145 194]\n",
      "[3 9 0 9 9]\n",
      "[1. 1. 1. 1. 1.]\n",
      "[   0.  250.  500.  750. 1000.]\n"
     ]
    }
   ],
   "source": [
    "productos = np.array([\"Smartphone\", \"Tablet\", \"Laptop\", \"Auriculares\", \"Teclado\"])\n",
    "print(productos)\n",
    "productos_stock = np.array([[\"Smartphone\", \"Tablet\", \"Laptop\", \"Auriculares\", \"Teclado\"], [50,30,15,40,60]])\n",
    "print(productos_stock)\n",
    "stock_dia = np.array([[[\"Smartphone\", \"Tablet\", \"Laptop\", \"Auriculares\", \"Teclado\"],[5,3,2,6,2]],[[\"Smartphone\", \"Tablet\", \"Laptop\", \"Auriculares\", \"Teclado\"],[7,4,1,8,5]],[[\"Smartphone\", \"Tablet\", \"Laptop\", \"Auriculares\", \"Teclado\"],[6,2,3,5,4]]])\n",
    "print(stock_dia)\n",
    "zeros = np.zeros((5))\n",
    "print(zeros)\n",
    "unos = np.ones((5))\n",
    "print(unos)\n",
    "\n",
    "precios = np.arange(50,1000,50)\n",
    "print(precios)\n",
    "\n",
    "precios_aleatorios = np.random.randint(100,500,(5))\n",
    "print(precios_aleatorios)\n",
    "unidades_vendidas = np.random.randint(0,10,(5))\n",
    "print(unidades_vendidas)\n",
    "\n",
    "vacio = np.empty((5))\n",
    "print(vacio)\n",
    "\n",
    "ventas = np.linspace(0, 1000, 5)\n",
    "print(ventas)"
   ]
  },
  {
   "cell_type": "markdown",
   "metadata": {},
   "source": [
    "En este ejercicio, trabajarás con arrays 1D y 2D en NumPy, aplicando indexación y selección de elementos.\n",
    "\n",
    "### Tareas:\n",
    "\n",
    "1. **Creación de arrays**\n",
    "    - Crea un array **1D** con los números del **1 al 10** utilizando `np.arange()`.\n",
    "    - Crea un array **2D** de tamaño **3x3** con valores del **1 al 9** utilizando `np.arange()` y `.reshape()`.\n",
    "2. **Indexación en arrays**\n",
    "    - Extrae y muestra:\n",
    "        - El primer y último elemento del array 1D.\n",
    "        - El primer elemento de la primera fila del array 2D.\n",
    "        - El último elemento de la última fila del array 2D.\n",
    "        - El elemento ubicado en la segunda fila y tercera columna del array 2D.\n",
    "3. **Selección de filas y columnas**\n",
    "    - Extrae y muestra:\n",
    "        - La primera fila completa del array 2D.\n",
    "        - La segunda columna completa del array 2D."
   ]
  },
  {
   "cell_type": "code",
   "execution_count": 3,
   "metadata": {},
   "outputs": [
    {
     "name": "stdout",
     "output_type": "stream",
     "text": [
      "[ 1  2  3  4  5  6  7  8  9 10]\n",
      "[[1 2 3]\n",
      " [4 5 6]\n",
      " [7 8 9]]\n",
      "1\n",
      "10\n",
      "1\n",
      "9\n",
      "6\n",
      "[1 2 3]\n",
      "[4 5 6]\n"
     ]
    }
   ],
   "source": [
    "array1 = np.arange(1,11)\n",
    "print(array1)\n",
    "array2 = np.arange(1,10).reshape(3,3)\n",
    "print(array2)\n",
    "print(array1[0])\n",
    "print(array1[-1])\n",
    "print(array2[0,0])\n",
    "print(array2[2,2])\n",
    "print(array2[1,2])\n",
    "print(array2[0])\n",
    "print(array2[:,1])"
   ]
  },
  {
   "cell_type": "markdown",
   "metadata": {},
   "source": [
    "En este ejercicio, simularemos una imagen representada como un **array 3D** en NumPy. En procesamiento de imágenes, un array 3D suele representar una imagen con dimensiones `(altura, anchura, canales)`, donde los **canales** pueden ser **rojo (R), verde (G) y azul (B)** en imágenes a color.\n",
    "\n",
    "### Tareas:\n",
    "\n",
    "1. **Creación del array 3D**\n",
    "    - Genera un array 3D de tamaño **4x4x3** con valores aleatorios entre **0 y 255** para simular una imagen en formato RGB.\n",
    "    - Usa `np.random.randint()` para generar valores enteros.\n",
    "2. **Indexación en el array 3D**\n",
    "    - Extrae y muestra:\n",
    "        - El primer píxel (posición `[0,0]`) con sus valores de color **(R, G, B)**.\n",
    "        - El último píxel de la imagen (posición `[-1,-1]`).\n",
    "        - El valor del canal rojo del píxel en la segunda fila y tercera columna.\n",
    "3. **Slicing en el array 3D**\n",
    "    - Extrae y muestra:\n",
    "        - Toda la primera fila de la imagen (es decir, todos los píxeles de la primera fila con sus valores RGB).\n",
    "        - Solo los valores del canal azul para todos los píxeles de la imagen.\n",
    "        - Un recorte central de la imagen, seleccionando las filas y columnas intermedias (por ejemplo, de la posición `[1:3, 1:3, :]`)."
   ]
  },
  {
   "cell_type": "code",
   "execution_count": 4,
   "metadata": {},
   "outputs": [
    {
     "name": "stdout",
     "output_type": "stream",
     "text": [
      "[[[ 83 127 137]\n",
      "  [ 79 164 122]\n",
      "  [208 192 154]\n",
      "  [ 67  42  77]]\n",
      "\n",
      " [[198 194  59]\n",
      "  [ 75 136 211]\n",
      "  [ 33 176 143]\n",
      "  [125 211 106]]\n",
      "\n",
      " [[ 82 251 199]\n",
      "  [ 47 194  79]\n",
      "  [129 203  92]\n",
      "  [100 194  94]]\n",
      "\n",
      " [[ 67  95 196]\n",
      "  [139 177  60]\n",
      "  [135 130 248]\n",
      "  [199  70 152]]]\n",
      "[ 83 127 137]\n",
      "[199  70 152]\n",
      "[122 211  79  60]\n",
      "[[ 83 127 137]\n",
      " [198 194  59]\n",
      " [ 82 251 199]\n",
      " [ 67  95 196]]\n",
      "[[137 122 154  77]\n",
      " [ 59 211 143 106]\n",
      " [199  79  92  94]\n",
      " [196  60 248 152]]\n",
      "[[[ 75 136 211]\n",
      "  [ 33 176 143]]\n",
      "\n",
      " [[ 47 194  79]\n",
      "  [129 203  92]]]\n"
     ]
    }
   ],
   "source": [
    "array3 = np.random.randint(0,255,(4,4,3))\n",
    "print(array3)\n",
    "print(array3[0,0])\n",
    "print(array3[-1,-1])\n",
    "print(array3[:,1,2])\n",
    "print(array3[:,0])\n",
    "print(array3[:,:,2])\n",
    "print(array3[1:3,1:3,:])"
   ]
  },
  {
   "cell_type": "code",
   "execution_count": 7,
   "metadata": {},
   "outputs": [
    {
     "name": "stdout",
     "output_type": "stream",
     "text": [
      "[[ 0  1  2  3  4]\n",
      " [ 5  6  7  8  9]\n",
      " [10 11 12 13 14]\n",
      " [15 16 17 18 19]\n",
      " [20 21 22 23 24]]\n",
      "[ 0  1  2  3  4  5  6  7  8  9 10 11 12 13 14 15 16 17 18 19 20 21 22 23\n",
      " 24]\n",
      "[[ 0  5 10 15 20]\n",
      " [ 1  6 11 16 21]\n",
      " [ 2  7 12 17 22]\n",
      " [ 3  8 13 18 23]\n",
      " [ 4  9 14 19 24]]\n",
      "[[[ 0  1  2  3  4]]\n",
      "\n",
      " [[ 5  6  7  8  9]]\n",
      "\n",
      " [[10 11 12 13 14]]\n",
      "\n",
      " [[15 16 17 18 19]]\n",
      "\n",
      " [[20 21 22 23 24]]]\n"
     ]
    }
   ],
   "source": [
    "array = np.arange(25)\n",
    "reshaped = array.reshape(5,5)\n",
    "print(reshaped)\n",
    "'''reshaped = array.reshape(2,4)\n",
    "print(reshaped)'''\n",
    "aplanado = reshaped.ravel()\n",
    "print(aplanado)\n",
    "transposed = reshaped.T\n",
    "print(transposed)\n",
    "reshaped3d = array.reshape(5,1,5)\n",
    "print(reshaped3d)"
   ]
  },
  {
   "cell_type": "code",
   "execution_count": 11,
   "metadata": {},
   "outputs": [
    {
     "name": "stdout",
     "output_type": "stream",
     "text": [
      "[[ 6  8]\n",
      " [10 12]]\n",
      "[[-4 -4]\n",
      " [-4 -4]]\n",
      "[[ 5 12]\n",
      " [21 32]]\n",
      "[[0.2        0.33333333]\n",
      " [0.42857143 0.5       ]]\n",
      "[[ 7  8]\n",
      " [ 9 10]]\n",
      "[[5 4]\n",
      " [3 2]]\n",
      "[[ 6 12]\n",
      " [18 24]]\n",
      "[[0.16666667 0.33333333]\n",
      " [0.5        0.66666667]]\n"
     ]
    }
   ],
   "source": [
    "array1 = np.array([[1,2],[3,4]])\n",
    "array2 = np.array([[5,6],[7,8]])\n",
    "suma = array1 + array2\n",
    "print(suma)\n",
    "resta = array1 - array2\n",
    "print(resta)\n",
    "multiplicacion = array1 * array2\n",
    "print(multiplicacion)\n",
    "division = array1 / array2\n",
    "print(division)\n",
    "print(array1 + 6)\n",
    "print(6 - array1)\n",
    "print(array1 * 6)\n",
    "print(array1 / 6)"
   ]
  },
  {
   "cell_type": "code",
   "execution_count": 28,
   "metadata": {},
   "outputs": [
    {
     "name": "stdout",
     "output_type": "stream",
     "text": [
      "[13 18  6  5 17 16 21 13 20  5  7 21  8  7 11 12 22  9 13  5  5 25  7  5\n",
      " 19]\n",
      "[ 13  31  37  42  59  75  96 109 129 134 141 162 170 177 188 200 222 231\n",
      " 244 249 254 279 286 291 310]\n",
      "[[0.9041542  0.27698882 0.91073462 0.45139579 0.65284984 0.02763209\n",
      "  0.54530186 0.62307754 0.69234964 0.61595639 0.39465846 0.33288993\n",
      "  0.98942385 0.19489753 0.32586709 0.66802662 0.06971179 0.12414471\n",
      "  0.56972007 0.39713331 0.99055224 0.9401889  0.53467106 0.27072756\n",
      "  0.13277541]]\n",
      "[ 0.9041542   1.18114301  2.09187763  2.54327342  3.19612327  3.22375536\n",
      "  3.76905722  4.39213477  5.08448441  5.7004408   6.09509925  6.42798919\n",
      "  7.41741304  7.61231057  7.93817766  8.60620429  8.67591607  8.80006078\n",
      "  9.36978085  9.76691416 10.7574664  11.69765531 12.23232636 12.50305393\n",
      " 12.63582934]\n"
     ]
    }
   ],
   "source": [
    "array = np.random.randint(0,26,25)\n",
    "print(array)\n",
    "print(np.cumsum(array))\n",
    "\n",
    "array2 = np.random.rand(1,25)\n",
    "print(array2)\n",
    "print(np.cumsum(array2))\n",
    "\n"
   ]
  },
  {
   "cell_type": "code",
   "execution_count": 5,
   "metadata": {},
   "outputs": [
    {
     "name": "stdout",
     "output_type": "stream",
     "text": [
      "El disco más similar al nuevo disco es: [ 20   3 200] con una distancia de 21.95\n"
     ]
    }
   ],
   "source": [
    "disco1 = np.array([10, 2, 150])\n",
    "disco2 = np.array([20, 3, 200])\n",
    "disco3 = np.array([30, 4, 250])\n",
    "\n",
    "nuevo_disco = np.array([11, 2, 180])\n",
    "\n",
    "discos = np.array([disco1, disco2, disco3])\n",
    "\n",
    "def distancia_euclidiana(v1, v2):\n",
    "    return np.sqrt(np.sum((v1 - v2) ** 2))\n",
    "#Otra forma: np.linalg.norm(v1 - v2)\n",
    "\n",
    "distancias = [distancia_euclidiana(nuevo_disco, disco) for disco in discos]\n",
    "\n",
    "indice_disco_mas_parecido = np.argmin(distancias)  \n",
    "disco_mas_parecido = discos[indice_disco_mas_parecido]\n",
    "\n",
    "print(f\"El disco más similar al nuevo disco es: {disco_mas_parecido} con una distancia de {distancias[indice_disco_mas_parecido]:.2f}\")"
   ]
  },
  {
   "cell_type": "code",
   "execution_count": 10,
   "metadata": {},
   "outputs": [
    {
     "name": "stdout",
     "output_type": "stream",
     "text": [
      "[16  0  1]\n",
      "[16 16 12]\n",
      "268\n",
      "[ -16 -176  256]\n",
      "[-3  6 -3]\n"
     ]
    }
   ],
   "source": [
    "vector1 = np.random.randint(0, 20, (3))\n",
    "vector2 = np.random.randint(0, 20, (3))\n",
    "print(vector1)\n",
    "print(vector2)\n",
    "producto_punto = np.dot(vector1, vector2)\n",
    "print(producto_punto)\n",
    "producto_cruzado = np.cross(vector1, vector2)\n",
    "print(producto_cruzado)\n",
    "vector1 = np.array([1,2,3])\n",
    "vector2 = np.array([4,5,6])\n",
    "print(np.cross(vector1,vector2))"
   ]
  },
  {
   "cell_type": "code",
   "execution_count": 16,
   "metadata": {},
   "outputs": [
    {
     "name": "stdout",
     "output_type": "stream",
     "text": [
      "355.4574517435244\n",
      "355.4574517435244\n",
      "18.708286933869708\n",
      "374.16573867739413\n",
      "18.708286933869708\n",
      "374.16573867739413\n"
     ]
    }
   ],
   "source": [
    "A = np.arange(5,20,5)\n",
    "B = np.arange(100,400,100)\n",
    "distancia1 = distancia = np.sqrt(np.sum((B - A) ** 2))\n",
    "print(distancia1)\n",
    "distancia1 = np.linalg.norm(A - B)\n",
    "print(distancia1)\n",
    "\n",
    "origen = distancia_origen = np.sqrt(np.sum(A ** 2))\n",
    "print(origen)\n",
    "origen = distancia_origen = np.sqrt(np.sum(B ** 2))\n",
    "print(origen)\n",
    "origen = np.linalg.norm(A)\n",
    "print(origen)\n",
    "origen = np.linalg.norm(B)\n",
    "print(origen)\n"
   ]
  }
 ],
 "metadata": {
  "kernelspec": {
   "display_name": ".venv",
   "language": "python",
   "name": "python3"
  },
  "language_info": {
   "codemirror_mode": {
    "name": "ipython",
    "version": 3
   },
   "file_extension": ".py",
   "mimetype": "text/x-python",
   "name": "python",
   "nbconvert_exporter": "python",
   "pygments_lexer": "ipython3",
   "version": "3.10.0"
  }
 },
 "nbformat": 4,
 "nbformat_minor": 2
}
