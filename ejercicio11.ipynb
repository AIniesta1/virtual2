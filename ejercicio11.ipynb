{
 "cells": [
  {
   "cell_type": "markdown",
   "metadata": {},
   "source": [
    "- ¿Qué es NumPy y para qué se utiliza en programación científica?\n",
    "- Historia de Numpy\n",
    "- ¿Cuál es la diferencia entre una lista de Python y un array de NumPy?\n",
    "- ¿Cómo se crea un array en NumPy? Explicar y dar ejemplos de:\n",
    "    - Un array unidimensional.\n",
    "    - Un array bidimensional.\n",
    "    - Un array de valores inicializados con ceros, unos y valores aleatorios.\n",
    "- ¿Cómo acceder a los elementos de un array y cómo modificar sus valores?\n",
    "- ¿Qué son los **ejes (axis)** en un array multidimensional? Explica con ejemplos prácticos.\n",
    "- Explica la diferencia entre **np.dot()** (producto escalar) y **np.cross()** (producto cruzado).\n",
    "- ¿Cómo se pueden transformar las dimensiones de un array? Explica con ejemplos las funciones `reshape()` y `flatten()`.\n",
    "- ¿Qué es Matplotlib y en qué situaciones se usa en programación?"
   ]
  },
  {
   "cell_type": "markdown",
   "metadata": {},
   "source": [
    "NumPy es una biblioteca de Python utilizada en computación científica y análisis de datos. Permite trabajar con grandes matrices y arrays, realizando operaciones matemáticas complejas de forma rápida y eficiente. Es fundamental en áreas como el análisis de datos, procesamiento de imágenes, aprendizaje automático y visualización de datos."
   ]
  },
  {
   "cell_type": "markdown",
   "metadata": {},
   "source": [
    "Python no fue diseñado inicialmente para computación numérica, pero en 1995 surgió el grupo SIG matrix-sig con el objetivo de crear un paquete para computación de vectores. Guido van Rossum, creador de Python, extendió la sintaxis del lenguaje para facilitar este tipo de cálculos. Jim Hugunin desarrolló una primera implementación llamada Numeric, que luego fue ampliada y conocida como las \"extensiones numéricas de Python\". Posteriormente, se creó Numarray, como un reemplazo más flexible de Numeric, pero ambos paquetes fueron reemplazados por NumPy en 2006, desarrollado por Travis Oliphant, quien unificó las características de ambos. NumPy se separó de SciPy y se lanzó como un paquete independiente. En 2011, se añadió soporte para Python 3, y ese mismo año PyPy comenzó a trabajar en una implementación de la API de NumPy. NumPy se consolidó como una herramienta esencial en computación científica y análisis de datos."
   ]
  },
  {
   "cell_type": "markdown",
   "metadata": {},
   "source": [
    "La diferencia principal entre una lista de Python y un array de NumPy es la eficiencia y el propósito. Los arrays de NumPy son más rápidos y eficientes para realizar cálculos numéricos, ya que están optimizados para trabajar con grandes cantidades de datos. Mientras que las listas de Python pueden contener elementos de diferentes tipos (como números y cadenas), los arrays de NumPy son homogéneos, es decir, todos sus elementos deben ser del mismo tipo, generalmente numérico. Además, NumPy permite realizar operaciones matemáticas de forma más sencilla y rápida sobre todo el array, mientras que en las listas de Python tendrías que hacerlo manualmente. También, NumPy ofrece muchas funciones matemáticas avanzadas que no están disponibles en las listas de Python. Por lo tanto, NumPy es más adecuado para tareas de computación científica y análisis de grandes datos, mientras que las listas son más flexibles para otros usos."
   ]
  },
  {
   "cell_type": "markdown",
   "metadata": {},
   "source": [
    "Para crear un array en NumPy, primero debes importar la biblioteca usando import numpy as np. Luego, puedes usar varias funciones de NumPy, como np.array(), np.zeros(), np.ones(), y np.random.random() para crear arrays de diferentes formas y tipos.\n",
    "\n",
    "1. Array unidimensional\n",
    "Un array unidimensional es simplemente una lista de elementos organizados en una sola fila. Para crear un array unidimensional en NumPy, usamos la función np.array() pasando una lista de Python.\n",
    "Ejemplo:"
   ]
  },
  {
   "cell_type": "code",
   "execution_count": 1,
   "metadata": {},
   "outputs": [
    {
     "name": "stdout",
     "output_type": "stream",
     "text": [
      "[1 2 3 4 5]\n"
     ]
    }
   ],
   "source": [
    "import numpy as np\n",
    "\n",
    "# Array unidimensional\n",
    "array_unidimensional = np.array([1, 2, 3, 4, 5])\n",
    "print(array_unidimensional)"
   ]
  },
  {
   "cell_type": "markdown",
   "metadata": {},
   "source": [
    "2. Array bidimensional\n",
    "Un array bidimensional es una estructura de datos organizada en filas y columnas, como una matriz. Para crear un array bidimensional en NumPy, pasamos una lista de listas a la función np.array().\n",
    "\n",
    "Ejemplo:"
   ]
  },
  {
   "cell_type": "code",
   "execution_count": 2,
   "metadata": {},
   "outputs": [
    {
     "name": "stdout",
     "output_type": "stream",
     "text": [
      "[[1 2 3]\n",
      " [4 5 6]]\n"
     ]
    }
   ],
   "source": [
    "import numpy as np\n",
    "\n",
    "# Array bidimensional (matriz 2x3)\n",
    "array_bidimensional = np.array([[1, 2, 3], [4, 5, 6]])\n",
    "print(array_bidimensional)"
   ]
  },
  {
   "cell_type": "markdown",
   "metadata": {},
   "source": [
    "3. Array con valores inicializados con ceros, unos y valores aleatorios\n",
    "Array de ceros: Se usa la función np.zeros(), que crea un array de cualquier forma, pero con todos sus elementos inicializados a cero.\n",
    "Ejemplo:"
   ]
  },
  {
   "cell_type": "code",
   "execution_count": 3,
   "metadata": {},
   "outputs": [
    {
     "name": "stdout",
     "output_type": "stream",
     "text": [
      "[[0. 0. 0.]\n",
      " [0. 0. 0.]\n",
      " [0. 0. 0.]]\n"
     ]
    }
   ],
   "source": [
    "import numpy as np\n",
    "\n",
    "# Array de ceros (3x3)\n",
    "array_zeros = np.zeros((3, 3))\n",
    "print(array_zeros)"
   ]
  },
  {
   "cell_type": "markdown",
   "metadata": {},
   "source": [
    "Array de unos: Se usa la función np.ones(), que crea un array con todos sus elementos inicializados a uno.\n",
    "Ejemplo:"
   ]
  },
  {
   "cell_type": "code",
   "execution_count": 4,
   "metadata": {},
   "outputs": [
    {
     "name": "stdout",
     "output_type": "stream",
     "text": [
      "[[1. 1. 1. 1.]\n",
      " [1. 1. 1. 1.]]\n"
     ]
    }
   ],
   "source": [
    "import numpy as np\n",
    "\n",
    "# Array de unos (2x4)\n",
    "array_ones = np.ones((2, 4))\n",
    "print(array_ones)"
   ]
  },
  {
   "cell_type": "markdown",
   "metadata": {},
   "source": [
    "Array de valores aleatorios: Se usa la función np.random.random(), que crea un array con valores aleatorios entre 0 y 1.\n",
    "Ejemplo:"
   ]
  },
  {
   "cell_type": "code",
   "execution_count": 5,
   "metadata": {},
   "outputs": [
    {
     "name": "stdout",
     "output_type": "stream",
     "text": [
      "[[0.27730225 0.8142494  0.25341525]\n",
      " [0.93562944 0.03302134 0.63915149]]\n"
     ]
    }
   ],
   "source": [
    "import numpy as np\n",
    "\n",
    "# Array con valores aleatorios (2x3)\n",
    "array_random = np.random.random((2, 3))\n",
    "print(array_random)"
   ]
  },
  {
   "cell_type": "markdown",
   "metadata": {},
   "source": [
    "En NumPy, puedes acceder a los elementos de un array de manera similar a cómo lo haces con listas de Python, pero con algunas características adicionales debido a la naturaleza de los arrays multidimensionales. Puedes acceder a elementos utilizando índices y, si es necesario, también modificar sus valores directamente.\n",
    "\n",
    "1. Acceder a los elementos de un array\n",
    "Array unidimensional\n",
    "Para acceder a los elementos de un array unidimensional, puedes usar el índice del elemento dentro del array, empezando desde 0 para el primer elemento.\n",
    "\n",
    "Ejemplo:"
   ]
  },
  {
   "cell_type": "code",
   "execution_count": 6,
   "metadata": {},
   "outputs": [
    {
     "name": "stdout",
     "output_type": "stream",
     "text": [
      "10\n",
      "50\n"
     ]
    }
   ],
   "source": [
    "import numpy as np\n",
    "\n",
    "# Array unidimensional\n",
    "array = np.array([10, 20, 30, 40, 50])\n",
    "\n",
    "# Acceder al primer elemento (índice 0)\n",
    "print(array[0]) \n",
    "\n",
    "# Acceder al último elemento (índice -1)\n",
    "print(array[-1])"
   ]
  },
  {
   "cell_type": "markdown",
   "metadata": {},
   "source": [
    "Array bidimensional\n",
    "Para acceder a los elementos de un array bidimensional (como una matriz), se usa una tupla de índices: primero el índice de la fila y luego el de la columna.\n",
    "\n",
    "Ejemplo:"
   ]
  },
  {
   "cell_type": "code",
   "execution_count": 7,
   "metadata": {},
   "outputs": [
    {
     "name": "stdout",
     "output_type": "stream",
     "text": [
      "2\n",
      "6\n"
     ]
    }
   ],
   "source": [
    "import numpy as np\n",
    "\n",
    "# Array bidimensional\n",
    "array_2d = np.array([[1, 2, 3], [4, 5, 6]])\n",
    "\n",
    "# Acceder al elemento en la primera fila, segunda columna (índice 0, 1)\n",
    "print(array_2d[0, 1]) \n",
    "\n",
    "# Acceder al elemento en la segunda fila, tercera columna (índice 1, 2)\n",
    "print(array_2d[1, 2]) \n"
   ]
  },
  {
   "cell_type": "markdown",
   "metadata": {},
   "source": [
    "Acceder a un rango de elementos\n",
    "Puedes usar la notación de slicing para acceder a un rango de elementos en arrays unidimensionales o multidimensionales.\n",
    "\n",
    "Ejemplo:"
   ]
  },
  {
   "cell_type": "code",
   "execution_count": 8,
   "metadata": {},
   "outputs": [
    {
     "name": "stdout",
     "output_type": "stream",
     "text": [
      "[20 30 40]\n"
     ]
    }
   ],
   "source": [
    "import numpy as np\n",
    "\n",
    "# Array unidimensional\n",
    "array = np.array([10, 20, 30, 40, 50])\n",
    "\n",
    "# Acceder a un rango de elementos (índices del 1 al 3, excluyendo el 4)\n",
    "print(array[1:4])\n"
   ]
  },
  {
   "cell_type": "markdown",
   "metadata": {},
   "source": [
    "En un array bidimensional:"
   ]
  },
  {
   "cell_type": "code",
   "execution_count": null,
   "metadata": {},
   "outputs": [],
   "source": [
    "import numpy as np\n",
    "\n",
    "# Array bidimensional\n",
    "array_2d = np.array([[1, 2, 3], [4, 5, 6]])\n",
    "\n",
    "# Acceder a las dos primeras filas, todas las columnas\n",
    "print(array_2d[:2, :])"
   ]
  },
  {
   "cell_type": "markdown",
   "metadata": {},
   "source": [
    "2. Modificar los valores de un array\n",
    "Para modificar un elemento específico de un array, puedes asignar un nuevo valor al índice o rango de índices que deseas cambiar. Al igual que en las listas, NumPy permite modificar elementos de arrays directamente.\n",
    "\n",
    "Modificar un solo elemento\n",
    "Puedes cambiar el valor de un elemento especificando su índice.\n",
    "\n",
    "Ejemplo:"
   ]
  },
  {
   "cell_type": "code",
   "execution_count": null,
   "metadata": {},
   "outputs": [],
   "source": [
    "import numpy as np\n",
    "\n",
    "# Array unidimensional\n",
    "array = np.array([10, 20, 30, 40, 50])\n",
    "\n",
    "# Modificar el tercer elemento (índice 2)\n",
    "array[2] = 100\n",
    "print(array) \n"
   ]
  },
  {
   "cell_type": "markdown",
   "metadata": {},
   "source": [
    "Modificar un rango de elementos\n",
    "También puedes modificar un rango de elementos usando slicing.\n",
    "\n",
    "Ejemplo:"
   ]
  },
  {
   "cell_type": "code",
   "execution_count": 9,
   "metadata": {},
   "outputs": [
    {
     "name": "stdout",
     "output_type": "stream",
     "text": [
      "[ 10 200 300 400  50]\n"
     ]
    }
   ],
   "source": [
    "import numpy as np\n",
    "\n",
    "# Array unidimensional\n",
    "array = np.array([10, 20, 30, 40, 50])\n",
    "\n",
    "# Modificar un rango de elementos (índices 1 a 3)\n",
    "array[1:4] = [200, 300, 400]\n",
    "print(array) "
   ]
  },
  {
   "cell_type": "markdown",
   "metadata": {},
   "source": [
    "Modificar un array bidimensional\n",
    "En un array bidimensional, puedes modificar los valores de una fila, columna o elemento específico.\n",
    "\n",
    "Ejemplo:"
   ]
  },
  {
   "cell_type": "code",
   "execution_count": 10,
   "metadata": {},
   "outputs": [
    {
     "name": "stdout",
     "output_type": "stream",
     "text": [
      "[[  1 100   3]\n",
      " [  4   5   6]]\n",
      "[[  1 100   3]\n",
      " [  7   8   9]]\n"
     ]
    }
   ],
   "source": [
    "import numpy as np\n",
    "\n",
    "# Array bidimensional\n",
    "array_2d = np.array([[1, 2, 3], [4, 5, 6]])\n",
    "\n",
    "# Modificar el elemento en la primera fila, segunda columna\n",
    "array_2d[0, 1] = 100\n",
    "print(array_2d)\n",
    "\n",
    "# Modificar toda la segunda fila\n",
    "array_2d[1, :] = [7, 8, 9]\n",
    "print(array_2d)\n"
   ]
  },
  {
   "cell_type": "markdown",
   "metadata": {},
   "source": [
    "En NumPy, los ejes (axis) son una forma de referirse a las dimensiones de un array multidimensional. Cada eje representa una dirección a lo largo de una de las dimensiones del array, y puedes realizar operaciones a lo largo de estos ejes de manera eficiente. En un array bidimensional, por ejemplo, tienes dos ejes: uno para las filas y otro para las columnas. Los ejes son importantes porque muchas funciones en NumPy, como sum(), mean(), y otras, permiten operar a lo largo de un eje específico.\n",
    "\n",
    "Ejes en un array multidimensional\n",
    "Eje 0 (axis=0): Representa las filas en un array bidimensional. Si realizas una operación a lo largo de este eje, estás operando sobre las filas.\n",
    "Eje 1 (axis=1): Representa las columnas en un array bidimensional. Si realizas una operación a lo largo de este eje, estás operando sobre las columnas.\n",
    "En arrays de dimensiones superiores, los ejes siguen la misma lógica, donde el eje 0 es la primera dimensión, el eje 1 es la segunda, y así sucesivamente\n",
    "Ejemplo:"
   ]
  },
  {
   "cell_type": "code",
   "execution_count": 11,
   "metadata": {},
   "outputs": [
    {
     "name": "stdout",
     "output_type": "stream",
     "text": [
      "[5 7 9]\n",
      "[ 6 15]\n"
     ]
    }
   ],
   "source": [
    "import numpy as np\n",
    "\n",
    "# Array bidimensional\n",
    "array_2d = np.array([[1, 2, 3], [4, 5, 6]])\n",
    "\n",
    "# Sumar a lo largo del eje 0 (filas)\n",
    "# Esto sumará los elementos de cada columna\n",
    "print(np.sum(array_2d, axis=0)) \n",
    "\n",
    "# Sumar a lo largo del eje 1 (columnas)\n",
    "# Esto sumará los elementos de cada fila\n",
    "print(np.sum(array_2d, axis=1)) "
   ]
  },
  {
   "cell_type": "markdown",
   "metadata": {},
   "source": [
    "La función np.dot() realiza el producto escalar entre dos vectores, devolviendo un número. Es útil para cálculos como la proyección o el ángulo entre vectores. La función np.cross(), en cambio, realiza el producto cruzado entre dos vectores en 3D, devolviendo un vector perpendicular a los dos vectores originales. El producto cruzado se utiliza para encontrar áreas de paralelogramos y en aplicaciones de física en 3D. Ejemplo: "
   ]
  },
  {
   "cell_type": "code",
   "execution_count": 12,
   "metadata": {},
   "outputs": [
    {
     "name": "stdout",
     "output_type": "stream",
     "text": [
      "Producto escalar (np.dot()): 32\n",
      "Producto cruzado (np.cross()): [-3  6 -3]\n"
     ]
    }
   ],
   "source": [
    "import numpy as np\n",
    "\n",
    "# Vectores\n",
    "A = np.array([1, 2, 3])\n",
    "B = np.array([4, 5, 6])\n",
    "\n",
    "# Producto escalar\n",
    "producto_escalar = np.dot(A, B)\n",
    "print(\"Producto escalar (np.dot()):\", producto_escalar) \n",
    "\n",
    "# Producto cruzado\n",
    "producto_cruzado = np.cross(A, B)\n",
    "print(\"Producto cruzado (np.cross()):\", producto_cruzado) \n"
   ]
  },
  {
   "cell_type": "markdown",
   "metadata": {},
   "source": [
    "Las funciones reshape() y flatten() de NumPy permiten transformar las dimensiones de un array.\n",
    "\n",
    "reshape(): Cambia la forma de un array sin modificar sus datos, ajustando sus dimensiones. El número total de elementos debe mantenerse constante.\n",
    "\n",
    "Ejemplo:"
   ]
  },
  {
   "cell_type": "code",
   "execution_count": 13,
   "metadata": {},
   "outputs": [
    {
     "name": "stdout",
     "output_type": "stream",
     "text": [
      "[[1 2 3]\n",
      " [4 5 6]]\n"
     ]
    }
   ],
   "source": [
    "import numpy as np\n",
    "arr = np.array([1, 2, 3, 4, 5, 6])\n",
    "arr_reshape = arr.reshape(2, 3)  # Cambia a 2 filas y 3 columnas\n",
    "print(arr_reshape)"
   ]
  },
  {
   "cell_type": "markdown",
   "metadata": {},
   "source": [
    "flatten(): Convierte un array multidimensional en un array unidimensional.\n",
    "\n",
    "Ejemplo:"
   ]
  },
  {
   "cell_type": "code",
   "execution_count": 14,
   "metadata": {},
   "outputs": [
    {
     "name": "stdout",
     "output_type": "stream",
     "text": [
      "[1 2 3 4 5 6]\n"
     ]
    }
   ],
   "source": [
    "arr_flatten = arr_reshape.flatten()  # Convierte a un array 1D\n",
    "print(arr_flatten)"
   ]
  },
  {
   "cell_type": "markdown",
   "metadata": {},
   "source": [
    "Matplotlib es una biblioteca de Python que nos permite crear gráficos y visualizaciones de datos de manera sencilla. Es muy útil en análisis de datos, ya que nos ayuda a entender mejor la información al mostrarla de forma visual. Puedes hacer desde gráficos de líneas hasta diagramas de dispersión, barras o histogramas, dependiendo de lo que necesites mostrar.\n",
    "\n",
    "Se usa principalmente cuando quieres visualizar datos para detectar patrones, tendencias o hacer comparaciones. Por ejemplo, en ciencia de datos, física, estadísticas o incluso en aprendizaje automático, donde a menudo necesitamos ver cómo se comportan los datos antes de tomar decisiones o crear modelos."
   ]
  }
 ],
 "metadata": {
  "kernelspec": {
   "display_name": ".venv",
   "language": "python",
   "name": "python3"
  },
  "language_info": {
   "codemirror_mode": {
    "name": "ipython",
    "version": 3
   },
   "file_extension": ".py",
   "mimetype": "text/x-python",
   "name": "python",
   "nbconvert_exporter": "python",
   "pygments_lexer": "ipython3",
   "version": "3.10.0"
  }
 },
 "nbformat": 4,
 "nbformat_minor": 2
}
