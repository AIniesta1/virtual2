{
 "cells": [
  {
   "cell_type": "markdown",
   "metadata": {},
   "source": [
    "### **Contexto:**\n",
    "\n",
    "Eres un ingeniero de datos en un equipo de Fórmula 1 y debes analizar el rendimiento de **10 pilotos** en **5 carreras**. Para ello, trabajarás con matrices en NumPy para transformar los datos y extraer información útil.\n",
    "\n",
    "### **Tareas:**\n",
    "\n",
    "1. **Representar los datos** en un array bidimensional de NumPy donde cada fila sea un piloto y cada columna una carrera.\n",
    "2. **Transformación de arrays:**\n",
    "    - Reorganiza la matriz con `.reshape()` para analizar los datos de otra manera.\n",
    "    - Usa `.ravel()` o `.flatten()` para convertir la matriz en un array 1D.\n",
    "3. **Operaciones aritméticas:**\n",
    "    - Calcula el promedio de posiciones por piloto y por carrera (`axis=0` y `axis=1`).\n",
    "    - Aplica una penalización sumando una constante a cada posición y recalculando los valores.\n",
    "4. **Producto escalar:**\n",
    "    - Modela el rendimiento de dos pilotos como vectores y calcula su similitud mediante el **producto escalar**.\n",
    "5. **Producto cruzado:**\n",
    "    - Representa las posiciones de dos pilotos en las primeras tres carreras como vectores 3D y calcula su **producto cruzado**, interpretando el resultado en términos de diferencias de rendimiento.\n",
    "6. **Extra bonus:**\n",
    "    - Normaliza los datos usando la **norma L2** (`np.linalg.norm()`) para comparar el rendimiento de los pilotos en diferentes circuitos."
   ]
  }
 ],
 "metadata": {
  "language_info": {
   "name": "python"
  }
 },
 "nbformat": 4,
 "nbformat_minor": 2
}
