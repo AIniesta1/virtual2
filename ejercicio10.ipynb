{
 "cells": [
  {
   "cell_type": "markdown",
   "metadata": {},
   "source": [
    "### **Contexto:**\n",
    "\n",
    "Eres un ingeniero de datos en un equipo de Fórmula 1 y debes analizar el rendimiento de **10 pilotos** en **5 carreras**. Para ello, trabajarás con matrices en NumPy para transformar los datos y extraer información útil.\n",
    "\n",
    "### **Tareas:**\n",
    "\n",
    "1. **Representar los datos** en un array bidimensional de NumPy donde cada fila sea un piloto y cada columna una carrera.\n",
    "2. **Transformación de arrays:**\n",
    "    - Reorganiza la matriz con `.reshape()` para analizar los datos de otra manera.\n",
    "    - Usa `.ravel()` o `.flatten()` para convertir la matriz en un array 1D.\n",
    "3. **Operaciones aritméticas:**\n",
    "    - Calcula el promedio de posiciones por piloto y por carrera (`axis=0` y `axis=1`).\n",
    "    - Aplica una penalización sumando una constante a cada posición y recalculando los valores.\n",
    "4. **Producto escalar:**\n",
    "    - Modela el rendimiento de dos pilotos como vectores y calcula su similitud mediante el **producto escalar**.\n",
    "5. **Producto cruzado:**\n",
    "    - Representa las posiciones de dos pilotos en las primeras tres carreras como vectores 3D y calcula su **producto cruzado**, interpretando el resultado en términos de diferencias de rendimiento.\n",
    "6. **Extra bonus:**\n",
    "    - Normaliza los datos usando la **norma L2** (`np.linalg.norm()`) para comparar el rendimiento de los pilotos en diferentes circuitos."
   ]
  },
  {
   "cell_type": "code",
   "execution_count": 2,
   "metadata": {},
   "outputs": [],
   "source": [
    "import numpy as np "
   ]
  },
  {
   "cell_type": "code",
   "execution_count": 4,
   "metadata": {},
   "outputs": [
    {
     "name": "stdout",
     "output_type": "stream",
     "text": [
      "[[1 1 4 5 3]\n",
      " [2 3 5 4 1]\n",
      " [3 2 3 1 2]\n",
      " [4 4 2 2 4]\n",
      " [5 5 1 3 5]\n",
      " [1 1 4 5 3]\n",
      " [2 3 5 4 1]\n",
      " [3 2 3 1 2]\n",
      " [4 4 2 2 4]\n",
      " [5 5 1 3 5]]\n"
     ]
    }
   ],
   "source": [
    "pilotos = np.array([[1,1,4,5,3], \n",
    "                    [2,3,5,4,1], \n",
    "                    [3,2,3,1,2], \n",
    "                    [4,4,2,2,4], \n",
    "                    [5,5,1,3,5],\n",
    "                    [1,1,4,5,3], \n",
    "                    [2,3,5,4,1], \n",
    "                    [3,2,3,1,2], \n",
    "                    [4,4,2,2,4], \n",
    "                    [5,5,1,3,5]])\n",
    "print(pilotos)"
   ]
  },
  {
   "cell_type": "code",
   "execution_count": 8,
   "metadata": {},
   "outputs": [
    {
     "name": "stdout",
     "output_type": "stream",
     "text": [
      "[[[1]\n",
      "  [1]\n",
      "  [4]\n",
      "  [5]\n",
      "  [3]]\n",
      "\n",
      " [[2]\n",
      "  [3]\n",
      "  [5]\n",
      "  [4]\n",
      "  [1]]\n",
      "\n",
      " [[3]\n",
      "  [2]\n",
      "  [3]\n",
      "  [1]\n",
      "  [2]]\n",
      "\n",
      " [[4]\n",
      "  [4]\n",
      "  [2]\n",
      "  [2]\n",
      "  [4]]\n",
      "\n",
      " [[5]\n",
      "  [5]\n",
      "  [1]\n",
      "  [3]\n",
      "  [5]]\n",
      "\n",
      " [[1]\n",
      "  [1]\n",
      "  [4]\n",
      "  [5]\n",
      "  [3]]\n",
      "\n",
      " [[2]\n",
      "  [3]\n",
      "  [5]\n",
      "  [4]\n",
      "  [1]]\n",
      "\n",
      " [[3]\n",
      "  [2]\n",
      "  [3]\n",
      "  [1]\n",
      "  [2]]\n",
      "\n",
      " [[4]\n",
      "  [4]\n",
      "  [2]\n",
      "  [2]\n",
      "  [4]]\n",
      "\n",
      " [[5]\n",
      "  [5]\n",
      "  [1]\n",
      "  [3]\n",
      "  [5]]]\n"
     ]
    }
   ],
   "source": [
    "print(pilotos.reshape(10,5,1))"
   ]
  },
  {
   "cell_type": "code",
   "execution_count": 9,
   "metadata": {},
   "outputs": [
    {
     "name": "stdout",
     "output_type": "stream",
     "text": [
      "[1 1 4 5 3 2 3 5 4 1 3 2 3 1 2 4 4 2 2 4 5 5 1 3 5 1 1 4 5 3 2 3 5 4 1 3 2\n",
      " 3 1 2 4 4 2 2 4 5 5 1 3 5]\n"
     ]
    }
   ],
   "source": [
    "print(pilotos.flatten())"
   ]
  },
  {
   "cell_type": "code",
   "execution_count": 11,
   "metadata": {},
   "outputs": [
    {
     "name": "stdout",
     "output_type": "stream",
     "text": [
      "[[3. 3. 3. 3. 3.]]\n",
      "[[2.8]\n",
      " [3. ]\n",
      " [2.2]\n",
      " [3.2]\n",
      " [3.8]\n",
      " [2.8]\n",
      " [3. ]\n",
      " [2.2]\n",
      " [3.2]\n",
      " [3.8]]\n",
      "[[4. 4. 4. 4. 4.]]\n",
      "[[3.8]\n",
      " [4. ]\n",
      " [3.2]\n",
      " [4.2]\n",
      " [4.8]\n",
      " [3.8]\n",
      " [4. ]\n",
      " [3.2]\n",
      " [4.2]\n",
      " [4.8]]\n"
     ]
    }
   ],
   "source": [
    "promedio_carrera = pilotos.mean(axis = 0, keepdims = True)\n",
    "promedio_piloto = pilotos.mean(axis = 1, keepdims = True)\n",
    "print(promedio_carrera)\n",
    "print(promedio_piloto)\n",
    "penalizacion = pilotos + 1\n",
    "promedio_carrera = penalizacion.mean(axis = 0, keepdims = True)\n",
    "promedio_piloto = penalizacion.mean(axis = 1, keepdims = True)\n",
    "print(promedio_carrera)\n",
    "print(promedio_piloto)"
   ]
  },
  {
   "cell_type": "code",
   "execution_count": 12,
   "metadata": {},
   "outputs": [
    {
     "name": "stdout",
     "output_type": "stream",
     "text": [
      "48\n"
     ]
    }
   ],
   "source": [
    "vector1 = pilotos[0]\n",
    "vector2 = pilotos[1]\n",
    "producto_escalar = np.dot(vector1, vector2)\n",
    "print(producto_escalar)"
   ]
  },
  {
   "cell_type": "code",
   "execution_count": 13,
   "metadata": {},
   "outputs": [
    {
     "name": "stdout",
     "output_type": "stream",
     "text": [
      "[ 0  1 -1]\n"
     ]
    }
   ],
   "source": [
    "piloto1 = [1,2,2]\n",
    "piloto2 = [2,3,3]\n",
    "producto_cruzado = np.cross(piloto1, piloto2)\n",
    "print(producto_cruzado)"
   ]
  },
  {
   "cell_type": "code",
   "execution_count": 14,
   "metadata": {},
   "outputs": [
    {
     "name": "stdout",
     "output_type": "stream",
     "text": [
      "[[0.13867505 0.13867505 0.5547002  0.69337525 0.41602515]\n",
      " [0.26967994 0.40451992 0.67419986 0.53935989 0.13483997]\n",
      " [0.57735027 0.38490018 0.57735027 0.19245009 0.38490018]\n",
      " [0.53452248 0.53452248 0.26726124 0.26726124 0.53452248]\n",
      " [0.54232614 0.54232614 0.10846523 0.32539569 0.54232614]\n",
      " [0.13867505 0.13867505 0.5547002  0.69337525 0.41602515]\n",
      " [0.26967994 0.40451992 0.67419986 0.53935989 0.13483997]\n",
      " [0.57735027 0.38490018 0.57735027 0.19245009 0.38490018]\n",
      " [0.53452248 0.53452248 0.26726124 0.26726124 0.53452248]\n",
      " [0.54232614 0.54232614 0.10846523 0.32539569 0.54232614]]\n"
     ]
    }
   ],
   "source": [
    "normalizado = pilotos / np.linalg.norm(pilotos, axis = 1, keepdims = True)\n",
    "print(normalizado)"
   ]
  }
 ],
 "metadata": {
  "kernelspec": {
   "display_name": ".venv",
   "language": "python",
   "name": "python3"
  },
  "language_info": {
   "codemirror_mode": {
    "name": "ipython",
    "version": 3
   },
   "file_extension": ".py",
   "mimetype": "text/x-python",
   "name": "python",
   "nbconvert_exporter": "python",
   "pygments_lexer": "ipython3",
   "version": "3.10.0"
  }
 },
 "nbformat": 4,
 "nbformat_minor": 2
}
