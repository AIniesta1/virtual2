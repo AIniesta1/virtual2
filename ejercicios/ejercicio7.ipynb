{
 "cells": [
  {
   "cell_type": "markdown",
   "metadata": {},
   "source": [
    "**Contexto:**\n",
    "\n",
    "Una compañía aérea está analizando la trayectoria de sus aviones para garantizar que mantienen el rumbo adecuado. En particular, necesitan calcular la dirección perpendicular a la ruta de vuelo cuando hay desviaciones debido a corrientes de aire. Para ello, utilizarán el **producto cruzado** de dos vectores:\n",
    "\n",
    "1. **Vector de vuelo previsto:** Representa la trayectoria que el avión debería seguir.\n",
    "2. **Vector de vuelo real:** Representa la trayectoria que el avión está siguiendo en realidad.\n",
    "\n",
    "El producto cruzado entre estos dos vectores proporciona un tercer vector que indica la dirección de la desviación en el espacio tridimensional.\n",
    "\n",
    "---\n",
    "\n",
    "### **Enunciado del Ejercicio**\n",
    "\n",
    "Dado un avión que vuela en el espacio tridimensional, representaremos su trayectoria mediante vectores en un sistema de coordenadas cartesianas.\n",
    "\n",
    "1. Define los siguientes vectores en NumPy:\n",
    "    - **Vector de vuelo previsto**: `v1 = [3, 4, 0]`\n",
    "    - **Vector de vuelo real**: `v2 = [4, 3, 1]`\n",
    "2. Calcula el **producto cruzado** entre `v1` y `v2` utilizando NumPy.\n",
    "3. Interpreta el resultado:\n",
    "    - ¿En qué dirección ocurre la desviación?\n",
    "    - ¿Cómo se podría corregir la trayectoria del avión basándonos en este cálculo?\n",
    "\n",
    "---\n",
    "\n",
    "### **Explicación**\n",
    "\n",
    "- El producto cruzado entre dos vectores en el espacio tridimensional genera un tercer vector **perpendicular** al plano que forman los dos vectores originales.\n",
    "- En este caso, el vector resultante indica la dirección en la que el avión está siendo desviado.\n",
    "- Si el resultado es `[x, y, z]`, la desviación se produce en la dirección del eje **z**, lo que significa que el avión está cambiando de altitud en lugar de mantenerse en el plano original.\n"
   ]
  },
  {
   "cell_type": "code",
   "execution_count": 2,
   "metadata": {},
   "outputs": [],
   "source": [
    "import numpy as np "
   ]
  },
  {
   "cell_type": "code",
   "execution_count": 7,
   "metadata": {},
   "outputs": [
    {
     "name": "stdout",
     "output_type": "stream",
     "text": [
      "[ 4 -3 -7]\n"
     ]
    }
   ],
   "source": [
    "v1 = np.array([3,4,0])\n",
    "v2 = np.array([4,3,1])\n",
    "producto_cruzado = np.cross(v1, v2)\n",
    "print(producto_cruzado)"
   ]
  },
  {
   "cell_type": "markdown",
   "metadata": {},
   "source": [
    "La desviación ocurre en el eje z."
   ]
  }
 ],
 "metadata": {
  "kernelspec": {
   "display_name": ".venv",
   "language": "python",
   "name": "python3"
  },
  "language_info": {
   "codemirror_mode": {
    "name": "ipython",
    "version": 3
   },
   "file_extension": ".py",
   "mimetype": "text/x-python",
   "name": "python",
   "nbconvert_exporter": "python",
   "pygments_lexer": "ipython3",
   "version": "3.10.0"
  }
 },
 "nbformat": 4,
 "nbformat_minor": 2
}
