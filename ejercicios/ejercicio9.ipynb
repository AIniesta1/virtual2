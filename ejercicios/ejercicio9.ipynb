{
 "cells": [
  {
   "cell_type": "markdown",
   "metadata": {},
   "source": [
    "### **Contexto**\n",
    "\n",
    "Eres un analista de rendimiento deportivo y tienes un equipo de **fútbol** que ha jugado **una temporada completa**. Para evaluar a cada jugador, has recopilado sus estadísticas en diferentes categorías:\n",
    "\n",
    "- **Goles marcados**\n",
    "- **Asistencias**\n",
    "- **Pases completados**\n",
    "- **Regates exitosos**\n",
    "- **Tiros a puerta**\n",
    "\n",
    "Sin embargo, los valores en cada categoría tienen escalas diferentes, por lo que es difícil comparar directamente el desempeño de los jugadores. Para resolver este problema, aplicarás la **normalización con la norma L2**, lo que permitirá convertir todas las estadísticas a una escala comparable.\n",
    "\n",
    "### **Objetivo del ejercicio**\n",
    "\n",
    "1. Representar el rendimiento de los jugadores como una matriz en NumPy.\n",
    "2. Aplicar la **normalización L2** a cada jugador para escalar sus valores entre 0 y 1 mientras se mantiene la proporción relativa.\n",
    "3. Comparar los jugadores después de la normalización.\n",
    "\n",
    "### **Datos de entrada**\n",
    "\n",
    "Supongamos que tenemos los datos de 5 jugadores:\n",
    "\n",
    "| Jugador | Goles | Asistencias | Pases | Regates | Tiros a puerta |\n",
    "| --- | --- | --- | --- | --- | --- |\n",
    "| Jugador 1 | 10 | 7 | 300 | 25 | 40 |\n",
    "| Jugador 2 | 15 | 10 | 250 | 30 | 50 |\n",
    "| Jugador 3 | 5 | 12 | 280 | 20 | 35 |\n",
    "| Jugador 4 | 8 | 6 | 310 | 15 | 38 |\n",
    "| Jugador 5 | 12 | 9 | 270 | 28 | 45 |\n",
    "\n",
    "Cada jugador es un **vector** con 5 componentes. Aplicaremos la **norma L2** para normalizar sus estadísticas.\n",
    "\n",
    "### **Tareas**\n",
    "\n",
    "1. Representar los datos como una matriz en NumPy.\n",
    "2. Aplicar la normalización L2 a cada jugador (por filas, usando `axis=1`).\n",
    "3. Mostrar los valores normalizados y analizar cómo se comparan los jugadores tras la normalización.\n",
    "\n",
    "### Preguntas\n",
    "\n",
    "- ¿Cómo cambian los valores después de la normalización?\n",
    "- ¿Por qué la normalización L2 es útil cuando los datos tienen escalas diferentes?\n",
    "- ¿Qué pasaría si normalizamos por **columnas (axis=0)** en lugar de por filas?"
   ]
  },
  {
   "cell_type": "code",
   "execution_count": 1,
   "metadata": {},
   "outputs": [],
   "source": [
    "import numpy as np"
   ]
  },
  {
   "cell_type": "code",
   "execution_count": 2,
   "metadata": {},
   "outputs": [
    {
     "name": "stdout",
     "output_type": "stream",
     "text": [
      "[[ 10   7 300  25  40]\n",
      " [ 15  10 250  30  50]\n",
      " [  5  12 280  20  35]\n",
      " [  8   6 310  15  38]\n",
      " [ 12   9 270  28  45]]\n"
     ]
    }
   ],
   "source": [
    "jugadores = np.array([[10,7,300,25,40],\n",
    "                      [15,10,250,30,50],\n",
    "                      [5,12,280,20,35],\n",
    "                      [8,6,310,15,38],\n",
    "                      [12,9,270,28,45]\n",
    "                      ])\n",
    "print(jugadores)"
   ]
  },
  {
   "cell_type": "code",
   "execution_count": 11,
   "metadata": {},
   "outputs": [
    {
     "name": "stdout",
     "output_type": "stream",
     "text": [
      "[[0.03290221 0.02303155 0.98706643 0.08225554 0.13160886]\n",
      " [0.05828815 0.03885877 0.97146918 0.1165763  0.19429384]\n",
      " [0.01765627 0.04237506 0.98875136 0.0706251  0.12359392]\n",
      " [0.02557216 0.01917912 0.9909212  0.0479478  0.12146776]\n",
      " [0.04354749 0.03266062 0.97981848 0.10161081 0.16330308]]\n"
     ]
    }
   ],
   "source": [
    "normalizacion = jugadores / np.linalg.norm(jugadores, axis = 1, keepdims= True)\n",
    "print(normalizacion)"
   ]
  }
 ],
 "metadata": {
  "kernelspec": {
   "display_name": ".venv",
   "language": "python",
   "name": "python3"
  },
  "language_info": {
   "codemirror_mode": {
    "name": "ipython",
    "version": 3
   },
   "file_extension": ".py",
   "mimetype": "text/x-python",
   "name": "python",
   "nbconvert_exporter": "python",
   "pygments_lexer": "ipython3",
   "version": "3.10.0"
  }
 },
 "nbformat": 4,
 "nbformat_minor": 2
}
