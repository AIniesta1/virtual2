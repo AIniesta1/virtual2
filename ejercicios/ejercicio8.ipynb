{
 "cells": [
  {
   "cell_type": "markdown",
   "metadata": {},
   "source": [
    "### **Contexto**\n",
    "\n",
    "Eres un entrenador de atletismo y necesitas evaluar el desempeño de un atleta en diferentes pruebas de velocidad y resistencia. Para hacerlo, utilizas dos vectores:\n",
    "\n",
    "- **Vector de rendimiento del atleta:** Contiene los tiempos que ha tardado en recorrer diferentes distancias (100m, 200m, 400m, 800m, 1500m).\n",
    "- **Vector de importancia de cada prueba:** Define qué tan importante es cada distancia en la evaluación final (por ejemplo, si priorizas pruebas de velocidad o de resistencia).\n",
    "\n",
    "El **producto escalar** te permitirá calcular un **índice de rendimiento** que refleja la eficiencia del atleta considerando la importancia de cada prueba.\n",
    "\n",
    "### **Objetivos del ejercicio**\n",
    "\n",
    "1. Representar el rendimiento de un atleta y la importancia de cada prueba como vectores.\n",
    "2. Calcular el producto escalar entre ambos vectores.\n",
    "3. Interpretar el resultado: un menor valor indica mejor rendimiento, ya que los tiempos son menores en pruebas más importantes.\n",
    "\n",
    "### **Datos de entrada**\n",
    "\n",
    "Supongamos que tenemos los siguientes datos:\n",
    "\n",
    "- **Tiempos del atleta (en segundos):** `[11, 22, 50, 110, 250]`\n",
    "- **Importancia de las pruebas:** `[0.4, 0.3, 0.2, 0.1, 0.05]` *(priorizamos más las pruebas cortas de velocidad que las largas de resistencia).*\n",
    "\n",
    "### **Tareas**\n",
    "\n",
    "1. Representa los datos como vectores en NumPy.\n",
    "2. Calcula el producto escalar entre los vectores.\n",
    "3. Explica qué significa el resultado obtenido en términos del rendimiento del atleta.\n",
    "\n",
    "### Preguntas\n",
    "\n",
    "- ¿Cómo afectaría al resultado si el atleta mejora su tiempo en la prueba de 100m?\n",
    "- ¿Qué pasaría si le damos más importancia a las pruebas de resistencia?\n",
    "- ¿Cómo se podría utilizar esta métrica para comparar a diferentes atletas?"
   ]
  },
  {
   "cell_type": "code",
   "execution_count": 1,
   "metadata": {},
   "outputs": [],
   "source": [
    "import numpy as np "
   ]
  },
  {
   "cell_type": "code",
   "execution_count": 2,
   "metadata": {},
   "outputs": [
    {
     "data": {
      "text/plain": [
       "np.float64(44.5)"
      ]
     },
     "execution_count": 2,
     "metadata": {},
     "output_type": "execute_result"
    }
   ],
   "source": [
    "tiempos_atleta = np.array([11, 22, 50, 110, 250])\n",
    "importancia_pruebas = np.array([0.4, 0.3, 0.2, 0.1, 0.05])\n",
    "\n",
    "np.dot(tiempos_atleta, importancia_pruebas)"
   ]
  }
 ],
 "metadata": {
  "kernelspec": {
   "display_name": ".venv",
   "language": "python",
   "name": "python3"
  },
  "language_info": {
   "codemirror_mode": {
    "name": "ipython",
    "version": 3
   },
   "file_extension": ".py",
   "mimetype": "text/x-python",
   "name": "python",
   "nbconvert_exporter": "python",
   "pygments_lexer": "ipython3",
   "version": "3.10.0"
  }
 },
 "nbformat": 4,
 "nbformat_minor": 2
}
